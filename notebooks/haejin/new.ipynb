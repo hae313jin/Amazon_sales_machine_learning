import pandas as pd
import matplotlib.pyplot as plt

# 데이터 로드
stocks = pd.read_excel('C:/Users/USER/Desktop/amazon_sales_dataset.xlsx')

# 데이터 확인
stocks.head()

# 'discounted_price' 열에서 통화 기호 ₹ 제거 후 숫자로 변환
stocks['discounted_price'] = pd.to_numeric(stocks['discounted_price'].str.replace('₹', '').str.replace(',', ''), errors='coerce')

# 'category' 열에서 카테고리가 여러 개인 경우 첫 번째 카테고리만 사용
stocks['category'] = stocks['category'].str.split('|').str[0]

# 카테고리별로 할인가(매출) 합계 계산
category_sales = stocks.groupby('category')['discounted_price'].sum().sort_values(ascending=False)

# 카테고리별 매출 결과 출력
print(category_sales)

# 카테고리별 매출 시각화 (막대 그래프)
category_sales.plot(kind='bar', figsize=(12, 6), title='Sales by Category')
plt.ylabel('Total Sales (Discounted Price)')
plt.xlabel('Category')
plt.show()

# 전체 매출 계산
total_sales = stocks['discounted_price'].sum()

# 카테고리별 매출 계산
category_sales = stocks.groupby('category')['discounted_price'].sum()

# 카테고리별 매출 비중 계산
category_sales_percentage = (category_sales / total_sales) * 100

print("Sales percentage by category:")
print(category_sales_percentage)

# 카테고리별 매출 비중을 시각화
category_sales_percentage.plot(kind='pie', figsize=(8, 8), autopct='%1.1f%%')
plt.title('Sales Percentage by Category')
plt.ylabel('')  # y축 라벨 제거 (파이 차트에서는 필요 없음)
plt.show()

# 상위 몇 개 카테고리가 전체 매출에 미치는 영향 파악
top_categories = category_sales_percentage.sort_values(ascending=False).head(5)
print("\nTop 5 categories by sales percentage:")
print(top_categories)

# 상위 카테고리 시각화 (막대 그래프)
top_categories.plot(kind='bar', figsize=(10, 6))
plt.title('Top 5 Categories by Sales Percentage')
plt.ylabel('Sales Percentage (%)')
plt.xlabel('Category')
plt.show()
